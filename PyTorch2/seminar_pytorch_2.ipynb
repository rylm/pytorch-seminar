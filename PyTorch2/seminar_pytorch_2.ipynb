{
 "cells": [
  {
   "cell_type": "markdown",
   "metadata": {
    "button": false,
    "deletable": true,
    "new_sheet": false,
    "run_control": {
     "read_only": false
    }
   },
   "source": [
    "### Generating names with recurrent neural networks\n",
    "\n",
    "This time you'll find yourself delving into the heart (and other intestines) of recurrent neural networks on a class of toy problems.\n",
    "\n",
    "Struggle to find a name for the variable? Let's see how you'll come up with a name for your son/daughter. Surely no human has expertize over what is a good child name, so let us train RNN instead;\n",
    "\n",
    "It's dangerous to go alone, take these:"
   ]
  },
  {
   "cell_type": "code",
   "execution_count": 86,
   "metadata": {
    "button": false,
    "collapsed": true,
    "deletable": true,
    "new_sheet": false,
    "run_control": {
     "read_only": false
    }
   },
   "outputs": [],
   "source": [
    "import numpy as np\n",
    "import matplotlib.pyplot as plt\n",
    "%matplotlib inline"
   ]
  },
  {
   "cell_type": "markdown",
   "metadata": {
    "button": false,
    "deletable": true,
    "new_sheet": false,
    "run_control": {
     "read_only": false
    }
   },
   "source": [
    "# Our data\n",
    "The dataset contains ~8k earthling names from different cultures, all in latin transcript.\n",
    "\n",
    "This notebook has been designed so as to allow you to quickly swap names for something similar: deep learning article titles, IKEA furniture, pokemon names, etc."
   ]
  },
  {
   "cell_type": "code",
   "execution_count": 2,
   "metadata": {
    "button": false,
    "collapsed": true,
    "deletable": true,
    "new_sheet": false,
    "run_control": {
     "read_only": false
    }
   },
   "outputs": [],
   "source": [
    "import os\n",
    "start_token = \" \"\n",
    "\n",
    "with open(\"names\") as f:\n",
    "    lines = f.read()[:-1].split('\\n')\n",
    "    lines = [start_token + line for line in lines]"
   ]
  },
  {
   "cell_type": "code",
   "execution_count": 3,
   "metadata": {
    "button": false,
    "collapsed": false,
    "deletable": true,
    "new_sheet": false,
    "run_control": {
     "read_only": false
    }
   },
   "outputs": [
    {
     "name": "stdout",
     "output_type": "stream",
     "text": [
      "n samples =  7944\n",
      " Abagael\n",
      " Claresta\n",
      " Glory\n",
      " Liliane\n",
      " Prissie\n",
      " Geeta\n",
      " Giovanne\n",
      " Piggy\n"
     ]
    }
   ],
   "source": [
    "print ('n samples = ',len(lines))\n",
    "for x in lines[::1000]:\n",
    "    print (x)\n",
    "    \n"
   ]
  },
  {
   "cell_type": "code",
   "execution_count": 87,
   "metadata": {
    "button": false,
    "collapsed": true,
    "deletable": true,
    "new_sheet": false,
    "run_control": {
     "read_only": false
    }
   },
   "outputs": [],
   "source": [
    "lines = names"
   ]
  },
  {
   "cell_type": "code",
   "execution_count": 88,
   "metadata": {
    "button": false,
    "collapsed": false,
    "deletable": true,
    "new_sheet": false,
    "run_control": {
     "read_only": false
    }
   },
   "outputs": [
    {
     "name": "stdout",
     "output_type": "stream",
     "text": [
      "max length = 13\n"
     ]
    },
    {
     "data": {
      "image/png": "[encoded data removed]",
      "text/plain": [
       "<matplotlib.figure.Figure at 0x110a37358>"
      ]
     },
     "metadata": {},
     "output_type": "display_data"
    }
   ],
   "source": [
    "MAX_LENGTH = max(map(len, lines))\n",
    "print(\"max length =\", MAX_LENGTH)\n",
    "\n",
    "plt.title('Sequence length distribution')\n",
    "plt.hist(list(map(len, lines)),bins=25);"
   ]
  },
  {
   "cell_type": "markdown",
   "metadata": {
    "button": false,
    "deletable": true,
    "new_sheet": false,
    "run_control": {
     "read_only": false
    }
   },
   "source": [
    "# Text processing\n",
    "\n",
    "First we need next to collect a \"vocabulary\" of all unique tokens i.e. unique characters. We can then encode inputs as a sequence of character ids."
   ]
  },
  {
   "cell_type": "code",
   "execution_count": 89,
   "metadata": {
    "button": false,
    "collapsed": false,
    "deletable": true,
    "new_sheet": false,
    "run_control": {
     "read_only": false
    }
   },
   "outputs": [
    {
     "name": "stdout",
     "output_type": "stream",
     "text": [
      "num_tokens =  29\n"
     ]
    }
   ],
   "source": [
    "#all unique characters go here\n",
    "tokens = set(\"\".join(lines))\n",
    "\n",
    "tokens = list(tokens)\n",
    "\n",
    "num_tokens = len(tokens)\n",
    "print ('num_tokens = ', num_tokens)\n",
    "\n",
    "#assert 50 < num_tokens < 60, \"Names should contain within 50 and 60 unique tokens depending on encoding\""
   ]
  },
  {
   "cell_type": "markdown",
   "metadata": {
    "button": false,
    "deletable": true,
    "new_sheet": false,
    "run_control": {
     "read_only": false
    }
   },
   "source": [
    "### Convert characters to integers\n",
    "\n",
    "Torch is built for crunching numbers, not strings. \n",
    "To train our neural network, we'll need to replace characters with their indices in tokens list.\n",
    "\n",
    "Let's compose a dictionary that does this mapping."
   ]
  },
  {
   "cell_type": "code",
   "execution_count": 90,
   "metadata": {
    "button": false,
    "collapsed": true,
    "deletable": true,
    "new_sheet": false,
    "run_control": {
     "read_only": false
    }
   },
   "outputs": [],
   "source": [
    "#token_to_id = <dictionary of symbol -> its identifier (index in tokens list)>\n",
    "token_to_id = {v: k for k, v in enumerate(tokens)}"
   ]
  },
  {
   "cell_type": "code",
   "execution_count": 91,
   "metadata": {
    "button": false,
    "collapsed": false,
    "deletable": true,
    "new_sheet": false,
    "run_control": {
     "read_only": false
    }
   },
   "outputs": [
    {
     "name": "stdout",
     "output_type": "stream",
     "text": [
      "Seems alright!\n"
     ]
    }
   ],
   "source": [
    "assert len(tokens) == len(token_to_id), \"dictionaries must have same size\"\n",
    "\n",
    "for i in range(num_tokens):\n",
    "    assert token_to_id[tokens[i]] == i, \"token identifier must be it's position in tokens list\"\n",
    "\n",
    "print(\"Seems alright!\")"
   ]
  },
  {
   "cell_type": "code",
   "execution_count": 92,
   "metadata": {
    "button": false,
    "collapsed": true,
    "deletable": true,
    "new_sheet": false,
    "run_control": {
     "read_only": false
    }
   },
   "outputs": [],
   "source": [
    "def to_matrix(lines, max_len=None, pad=token_to_id[' '], dtype='int32', batch_first = True):\n",
    "    \"\"\"Casts a list of names into rnn-digestable matrix\"\"\"\n",
    "    \n",
    "    max_len = max_len or max(map(len, lines))\n",
    "    lines_ix = np.zeros([len(lines), max_len], dtype) + pad\n",
    "\n",
    "    for i in range(len(lines)):\n",
    "        line_ix = [token_to_id[c] for c in lines[i]]\n",
    "        lines_ix[i, :len(line_ix)] = line_ix\n",
    "        \n",
    "    if not batch_first: # convert [batch, time] into [time, batch]\n",
    "        lines_ix = np.transpose(lines_ix)\n",
    "\n",
    "    return lines_ix"
   ]
  },
  {
   "cell_type": "code",
   "execution_count": 93,
   "metadata": {
    "button": false,
    "collapsed": false,
    "deletable": true,
    "new_sheet": false,
    "run_control": {
     "read_only": false
    }
   },
   "outputs": [
    {
     "name": "stdout",
     "output_type": "stream",
     "text": [
      " ABSORB\n",
      "[[16 18 15 12 17  9 15]]\n"
     ]
    }
   ],
   "source": [
    "#Example: cast 4 random names to matrices, pad with zeros\n",
    "print('\\n'.join(lines[::2000]))\n",
    "print(to_matrix(lines[::2000]))"
   ]
  },
  {
   "cell_type": "markdown",
   "metadata": {
    "button": false,
    "deletable": true,
    "new_sheet": false,
    "run_control": {
     "read_only": false
    }
   },
   "source": [
    "# Recurrent neural network\n",
    "\n",
    "We can rewrite recurrent neural network as a consecutive application of dense layer to input $x_t$ and previous rnn state $h_t$. This is exactly what we're gonna do now.\n",
    "<img src=\"./rnn.png\" width=480>\n",
    "\n",
    "Since we're training a language model, there should also be:\n",
    "* An embedding layer that converts character id x_t to a vector.\n",
    "* An output layer that predicts probabilities of next phoneme"
   ]
  },
  {
   "cell_type": "code",
   "execution_count": 10,
   "metadata": {
    "button": false,
    "collapsed": true,
    "deletable": true,
    "new_sheet": false,
    "run_control": {
     "read_only": false
    }
   },
   "outputs": [],
   "source": [
    "import torch, torch.nn as nn\n",
    "import torch.nn.functional as F\n",
    "from torch.autograd import Variable\n",
    "\n",
    "class CharRNNCell(nn.Module):\n",
    "    \"\"\"\n",
    "    Implement the scheme above as torch module\n",
    "    \"\"\"\n",
    "    def __init__(self, num_tokens=len(tokens), embedding_size=16, rnn_num_units=64):\n",
    "        super(self.__class__,self).__init__()\n",
    "        self.num_units = rnn_num_units\n",
    "        \n",
    "        self.embedding = nn.Embedding(num_tokens, embedding_size)\n",
    "        self.rnn_update = nn.Linear(embedding_size + rnn_num_units, rnn_num_units)\n",
    "        self.rnn_to_logits = nn.Linear(rnn_num_units, num_tokens)\n",
    "        \n",
    "    def forward(self, x, h_prev):\n",
    "        \"\"\"\n",
    "        This method computes h_next(x, h_prev) and log P(x_next | h_next)\n",
    "        We'll call it repeatedly to produce the whole sequence.\n",
    "        \n",
    "        :param x: batch of character ids, variable containing vector of int64\n",
    "        :param h_prev: previous rnn hidden states, variable containing matrix [batch, rnn_num_units] of float32\n",
    "        \"\"\"\n",
    "        # get vector embedding of x\n",
    "        x_emb = self.embedding(x)\n",
    "        \n",
    "        # compute next hidden state using self.rnn_update\n",
    "        # hint: use torch.cat(..., dim=...) for concatenation\n",
    "        h_next = self.rnn_update(torch.cat([x_emb, h_prev], dim=1))\n",
    "        \n",
    "        h_next = F.tanh(h_next)\n",
    "        \n",
    "        assert h_next.size() == h_prev.size()\n",
    "        \n",
    "        #compute logits for next character probs\n",
    "        logits = self.rnn_to_logits(h_next)\n",
    "        \n",
    "        return h_next, F.log_softmax(logits, -1)\n",
    "    \n",
    "    def initial_state(self, batch_size):\n",
    "        \"\"\" return rnn state before it processes first input (aka h0) \"\"\"\n",
    "        return Variable(torch.zeros(batch_size, self.num_units))"
   ]
  },
  {
   "cell_type": "code",
   "execution_count": 11,
   "metadata": {
    "button": false,
    "collapsed": true,
    "deletable": true,
    "new_sheet": false,
    "run_control": {
     "read_only": false
    }
   },
   "outputs": [],
   "source": [
    "char_rnn = CharRNNCell()"
   ]
  },
  {
   "cell_type": "markdown",
   "metadata": {
    "button": false,
    "deletable": true,
    "new_sheet": false,
    "run_control": {
     "read_only": false
    }
   },
   "source": [
    "### RNN loop\n",
    "\n",
    "Once we've defined a single RNN step, we can apply it in a loop to get predictions on each step."
   ]
  },
  {
   "cell_type": "code",
   "execution_count": 12,
   "metadata": {
    "button": false,
    "collapsed": true,
    "deletable": true,
    "new_sheet": false,
    "run_control": {
     "read_only": false
    }
   },
   "outputs": [],
   "source": [
    "def rnn_loop(char_rnn, batch_ix):\n",
    "    \"\"\"\n",
    "    Computes log P(next_character) for all time-steps in lines_ix\n",
    "    :param lines_ix: an int32 matrix of shape [batch, time], output of to_matrix(lines)\n",
    "    \"\"\"\n",
    "    batch_size, max_length = batch_ix.size()\n",
    "    hid_state = char_rnn.initial_state(batch_size)\n",
    "    logprobs = []\n",
    "\n",
    "    for x_t in batch_ix.transpose(0,1):\n",
    "        hid_state, logp_next = char_rnn(x_t, hid_state)  # <-- here we call your one-step code\n",
    "        logprobs.append(logp_next)\n",
    "        \n",
    "    return torch.stack(logprobs, dim=1)"
   ]
  },
  {
   "cell_type": "code",
   "execution_count": 13,
   "metadata": {
    "button": false,
    "collapsed": true,
    "deletable": true,
    "new_sheet": false,
    "run_control": {
     "read_only": false
    }
   },
   "outputs": [],
   "source": [
    "batch_ix = to_matrix(lines[:5])\n",
    "batch_ix = torch.tensor(batch_ix, dtype=torch.int64)\n",
    "\n",
    "logp_seq = rnn_loop(char_rnn, batch_ix)\n",
    "\n",
    "assert torch.max(logp_seq).data.numpy() <= 0\n",
    "assert tuple(logp_seq.size()) ==  batch_ix.shape + (num_tokens,)"
   ]
  },
  {
   "cell_type": "markdown",
   "metadata": {
    "button": false,
    "deletable": true,
    "new_sheet": false,
    "run_control": {
     "read_only": false
    }
   },
   "source": [
    "### Likelihood and gradients\n",
    "\n",
    "We can now train our neural network to minimize crossentropy (maximize log-likelihood) with the actual next tokens.\n",
    "\n",
    "To do so in a vectorized manner, we take `batch_ix[:, 1:]` - a matrix of token ids shifted i step to the left so i-th element is acutally the \"next token\" for i-th prediction"
   ]
  },
  {
   "cell_type": "code",
   "execution_count": 14,
   "metadata": {
    "button": false,
    "collapsed": true,
    "deletable": true,
    "new_sheet": false,
    "run_control": {
     "read_only": false
    }
   },
   "outputs": [],
   "source": [
    "predictions_logp = logp_seq[:, :-1]\n",
    "actual_next_tokens = batch_ix[:, 1:]\n",
    "\n",
    "logp_next = torch.gather(predictions_logp, dim=2, index=actual_next_tokens[:,:,None])\n",
    "\n",
    "loss = -logp_next.mean()"
   ]
  },
  {
   "cell_type": "code",
   "execution_count": 15,
   "metadata": {
    "button": false,
    "collapsed": true,
    "deletable": true,
    "new_sheet": false,
    "run_control": {
     "read_only": false
    }
   },
   "outputs": [],
   "source": [
    "loss.backward()"
   ]
  },
  {
   "cell_type": "code",
   "execution_count": 16,
   "metadata": {
    "button": false,
    "collapsed": true,
    "deletable": true,
    "new_sheet": false,
    "run_control": {
     "read_only": false
    }
   },
   "outputs": [],
   "source": [
    "for w in char_rnn.parameters():\n",
    "    assert w.grad is not None and torch.max(torch.abs(w.grad)).data.numpy() != 0, \\\n",
    "        \"Loss is not differentiable w.r.t. a weight with shape %s. Check forward method.\" % (w.size(),)"
   ]
  },
  {
   "cell_type": "markdown",
   "metadata": {
    "button": false,
    "deletable": true,
    "new_sheet": false,
    "run_control": {
     "read_only": false
    }
   },
   "source": [
    "### The training loop\n",
    "\n",
    "We train our char-rnn exactly the same way we train any deep learning model: by minibatch sgd.\n",
    "\n",
    "The only difference is that this time we sample strings, not images or sound."
   ]
  },
  {
   "cell_type": "code",
   "execution_count": 17,
   "metadata": {
    "button": false,
    "collapsed": true,
    "deletable": true,
    "new_sheet": false,
    "run_control": {
     "read_only": false
    }
   },
   "outputs": [],
   "source": [
    "from IPython.display import clear_output\n",
    "from random import sample\n",
    "\n",
    "char_rnn = CharRNNCell()\n",
    "opt = torch.optim.Adam(char_rnn.parameters())\n",
    "history = []"
   ]
  },
  {
   "cell_type": "code",
   "execution_count": 18,
   "metadata": {
    "button": false,
    "collapsed": false,
    "deletable": true,
    "new_sheet": false,
    "run_control": {
     "read_only": false
    }
   },
   "outputs": [
    {
     "data": {
      "image/png": "[encoded data removed]",
      "text/plain": [
       "<matplotlib.figure.Figure at 0x10e791b38>"
      ]
     },
     "metadata": {},
     "output_type": "display_data"
    },
    {
     "ename": "KeyboardInterrupt",
     "evalue": "",
     "output_type": "error",
     "traceback": [
      "\u001b[0;31m---------------------------------------------------------------------------\u001b[0m",
      "\u001b[0;31mKeyboardInterrupt\u001b[0m                         Traceback (most recent call last)",
      "\u001b[0;32m<ipython-input-18-cc675b5430a5>\u001b[0m in \u001b[0;36m<module>\u001b[0;34m()\u001b[0m\n\u001b[1;32m      3\u001b[0m     \u001b[0mbatch_ix\u001b[0m \u001b[0;34m=\u001b[0m \u001b[0mtorch\u001b[0m\u001b[0;34m.\u001b[0m\u001b[0mtensor\u001b[0m\u001b[0;34m(\u001b[0m\u001b[0mbatch_ix\u001b[0m\u001b[0;34m,\u001b[0m \u001b[0mdtype\u001b[0m\u001b[0;34m=\u001b[0m\u001b[0mtorch\u001b[0m\u001b[0;34m.\u001b[0m\u001b[0mint64\u001b[0m\u001b[0;34m)\u001b[0m\u001b[0;34m\u001b[0m\u001b[0m\n\u001b[1;32m      4\u001b[0m \u001b[0;34m\u001b[0m\u001b[0m\n\u001b[0;32m----> 5\u001b[0;31m     \u001b[0mlogp_seq\u001b[0m \u001b[0;34m=\u001b[0m \u001b[0mrnn_loop\u001b[0m\u001b[0;34m(\u001b[0m\u001b[0mchar_rnn\u001b[0m\u001b[0;34m,\u001b[0m \u001b[0mbatch_ix\u001b[0m\u001b[0;34m)\u001b[0m\u001b[0;34m\u001b[0m\u001b[0m\n\u001b[0m\u001b[1;32m      6\u001b[0m \u001b[0;34m\u001b[0m\u001b[0m\n\u001b[1;32m      7\u001b[0m     \u001b[0mpredictions_logp\u001b[0m \u001b[0;34m=\u001b[0m \u001b[0mlogp_seq\u001b[0m\u001b[0;34m[\u001b[0m\u001b[0;34m:\u001b[0m\u001b[0;34m,\u001b[0m \u001b[0;34m:\u001b[0m\u001b[0;34m-\u001b[0m\u001b[0;36m1\u001b[0m\u001b[0;34m]\u001b[0m\u001b[0;34m\u001b[0m\u001b[0m\n",
      "\u001b[0;32m<ipython-input-12-2c1361223e7c>\u001b[0m in \u001b[0;36mrnn_loop\u001b[0;34m(char_rnn, batch_ix)\u001b[0m\n\u001b[1;32m      9\u001b[0m \u001b[0;34m\u001b[0m\u001b[0m\n\u001b[1;32m     10\u001b[0m     \u001b[0;32mfor\u001b[0m \u001b[0mx_t\u001b[0m \u001b[0;32min\u001b[0m \u001b[0mbatch_ix\u001b[0m\u001b[0;34m.\u001b[0m\u001b[0mtranspose\u001b[0m\u001b[0;34m(\u001b[0m\u001b[0;36m0\u001b[0m\u001b[0;34m,\u001b[0m\u001b[0;36m1\u001b[0m\u001b[0;34m)\u001b[0m\u001b[0;34m:\u001b[0m\u001b[0;34m\u001b[0m\u001b[0m\n\u001b[0;32m---> 11\u001b[0;31m         \u001b[0mhid_state\u001b[0m\u001b[0;34m,\u001b[0m \u001b[0mlogp_next\u001b[0m \u001b[0;34m=\u001b[0m \u001b[0mchar_rnn\u001b[0m\u001b[0;34m(\u001b[0m\u001b[0mx_t\u001b[0m\u001b[0;34m,\u001b[0m \u001b[0mhid_state\u001b[0m\u001b[0;34m)\u001b[0m  \u001b[0;31m# <-- here we call your one-step code\u001b[0m\u001b[0;34m\u001b[0m\u001b[0m\n\u001b[0m\u001b[1;32m     12\u001b[0m         \u001b[0mlogprobs\u001b[0m\u001b[0;34m.\u001b[0m\u001b[0mappend\u001b[0m\u001b[0;34m(\u001b[0m\u001b[0mlogp_next\u001b[0m\u001b[0;34m)\u001b[0m\u001b[0;34m\u001b[0m\u001b[0m\n\u001b[1;32m     13\u001b[0m \u001b[0;34m\u001b[0m\u001b[0m\n",
      "\u001b[0;32m~/anaconda3/lib/python3.5/site-packages/torch/nn/modules/module.py\u001b[0m in \u001b[0;36m__call__\u001b[0;34m(self, *input, **kwargs)\u001b[0m\n\u001b[1;32m    489\u001b[0m             \u001b[0mresult\u001b[0m \u001b[0;34m=\u001b[0m \u001b[0mself\u001b[0m\u001b[0;34m.\u001b[0m\u001b[0m_slow_forward\u001b[0m\u001b[0;34m(\u001b[0m\u001b[0;34m*\u001b[0m\u001b[0minput\u001b[0m\u001b[0;34m,\u001b[0m \u001b[0;34m**\u001b[0m\u001b[0mkwargs\u001b[0m\u001b[0;34m)\u001b[0m\u001b[0;34m\u001b[0m\u001b[0m\n\u001b[1;32m    490\u001b[0m         \u001b[0;32melse\u001b[0m\u001b[0;34m:\u001b[0m\u001b[0;34m\u001b[0m\u001b[0m\n\u001b[0;32m--> 491\u001b[0;31m             \u001b[0mresult\u001b[0m \u001b[0;34m=\u001b[0m \u001b[0mself\u001b[0m\u001b[0;34m.\u001b[0m\u001b[0mforward\u001b[0m\u001b[0;34m(\u001b[0m\u001b[0;34m*\u001b[0m\u001b[0minput\u001b[0m\u001b[0;34m,\u001b[0m \u001b[0;34m**\u001b[0m\u001b[0mkwargs\u001b[0m\u001b[0;34m)\u001b[0m\u001b[0;34m\u001b[0m\u001b[0m\n\u001b[0m\u001b[1;32m    492\u001b[0m         \u001b[0;32mfor\u001b[0m \u001b[0mhook\u001b[0m \u001b[0;32min\u001b[0m \u001b[0mself\u001b[0m\u001b[0;34m.\u001b[0m\u001b[0m_forward_hooks\u001b[0m\u001b[0;34m.\u001b[0m\u001b[0mvalues\u001b[0m\u001b[0;34m(\u001b[0m\u001b[0;34m)\u001b[0m\u001b[0;34m:\u001b[0m\u001b[0;34m\u001b[0m\u001b[0m\n\u001b[1;32m    493\u001b[0m             \u001b[0mhook_result\u001b[0m \u001b[0;34m=\u001b[0m \u001b[0mhook\u001b[0m\u001b[0;34m(\u001b[0m\u001b[0mself\u001b[0m\u001b[0;34m,\u001b[0m \u001b[0minput\u001b[0m\u001b[0;34m,\u001b[0m \u001b[0mresult\u001b[0m\u001b[0;34m)\u001b[0m\u001b[0;34m\u001b[0m\u001b[0m\n",
      "\u001b[0;32m<ipython-input-10-5ed189dc92ed>\u001b[0m in \u001b[0;36mforward\u001b[0;34m(self, x, h_prev)\u001b[0m\n\u001b[1;32m     30\u001b[0m         \u001b[0mh_next\u001b[0m \u001b[0;34m=\u001b[0m \u001b[0mself\u001b[0m\u001b[0;34m.\u001b[0m\u001b[0mrnn_update\u001b[0m\u001b[0;34m(\u001b[0m\u001b[0mtorch\u001b[0m\u001b[0;34m.\u001b[0m\u001b[0mcat\u001b[0m\u001b[0;34m(\u001b[0m\u001b[0;34m[\u001b[0m\u001b[0mx_emb\u001b[0m\u001b[0;34m,\u001b[0m \u001b[0mh_prev\u001b[0m\u001b[0;34m]\u001b[0m\u001b[0;34m,\u001b[0m \u001b[0mdim\u001b[0m\u001b[0;34m=\u001b[0m\u001b[0;36m1\u001b[0m\u001b[0;34m)\u001b[0m\u001b[0;34m)\u001b[0m\u001b[0;34m\u001b[0m\u001b[0m\n\u001b[1;32m     31\u001b[0m \u001b[0;34m\u001b[0m\u001b[0m\n\u001b[0;32m---> 32\u001b[0;31m         \u001b[0mh_next\u001b[0m \u001b[0;34m=\u001b[0m \u001b[0mF\u001b[0m\u001b[0;34m.\u001b[0m\u001b[0mtanh\u001b[0m\u001b[0;34m(\u001b[0m\u001b[0mh_next\u001b[0m\u001b[0;34m)\u001b[0m\u001b[0;34m\u001b[0m\u001b[0m\n\u001b[0m\u001b[1;32m     33\u001b[0m \u001b[0;34m\u001b[0m\u001b[0m\n\u001b[1;32m     34\u001b[0m         \u001b[0;32massert\u001b[0m \u001b[0mh_next\u001b[0m\u001b[0;34m.\u001b[0m\u001b[0msize\u001b[0m\u001b[0;34m(\u001b[0m\u001b[0;34m)\u001b[0m \u001b[0;34m==\u001b[0m \u001b[0mh_prev\u001b[0m\u001b[0;34m.\u001b[0m\u001b[0msize\u001b[0m\u001b[0;34m(\u001b[0m\u001b[0;34m)\u001b[0m\u001b[0;34m\u001b[0m\u001b[0m\n",
      "\u001b[0;32m~/anaconda3/lib/python3.5/site-packages/torch/nn/functional.py\u001b[0m in \u001b[0;36mtanh\u001b[0;34m(input)\u001b[0m\n\u001b[1;32m    962\u001b[0m     \u001b[0mSee\u001b[0m \u001b[0;34m:\u001b[0m\u001b[0;32mclass\u001b[0m\u001b[0;34m:\u001b[0m\u001b[0;31m`\u001b[0m\u001b[0;34m~\u001b[0m\u001b[0mtorch\u001b[0m\u001b[0;34m.\u001b[0m\u001b[0mnn\u001b[0m\u001b[0;34m.\u001b[0m\u001b[0mTanh\u001b[0m\u001b[0;31m`\u001b[0m \u001b[0;32mfor\u001b[0m \u001b[0mmore\u001b[0m \u001b[0mdetails\u001b[0m\u001b[0;34m.\u001b[0m\u001b[0;34m\u001b[0m\u001b[0m\n\u001b[1;32m    963\u001b[0m     \"\"\"\n\u001b[0;32m--> 964\u001b[0;31m     \u001b[0;32mreturn\u001b[0m \u001b[0minput\u001b[0m\u001b[0;34m.\u001b[0m\u001b[0mtanh\u001b[0m\u001b[0;34m(\u001b[0m\u001b[0;34m)\u001b[0m\u001b[0;34m\u001b[0m\u001b[0m\n\u001b[0m\u001b[1;32m    965\u001b[0m \u001b[0;34m\u001b[0m\u001b[0m\n\u001b[1;32m    966\u001b[0m \u001b[0;34m\u001b[0m\u001b[0m\n",
      "\u001b[0;31mKeyboardInterrupt\u001b[0m: "
     ]
    }
   ],
   "source": [
    "for i in range(10000):\n",
    "    batch_ix = to_matrix(sample(lines, 32), max_len=MAX_LENGTH)\n",
    "    batch_ix = torch.tensor(batch_ix, dtype=torch.int64)\n",
    "    \n",
    "    logp_seq = rnn_loop(char_rnn, batch_ix)\n",
    "    \n",
    "    predictions_logp = logp_seq[:, :-1]\n",
    "    actual_next_tokens = batch_ix[:, 1:]\n",
    "\n",
    "    logp_next = torch.gather(predictions_logp, dim=2, index=actual_next_tokens[:,:,None])\n",
    "\n",
    "    loss = -logp_next.mean()\n",
    "\n",
    "    loss.backward()\n",
    "    \n",
    "    opt.step()\n",
    "    opt.zero_grad()\n",
    "    \n",
    "    history.append(loss.data.numpy())\n",
    "    if (i+1)%100==0:\n",
    "        clear_output(True)\n",
    "        plt.plot(history,label='loss')\n",
    "        plt.legend()\n",
    "        plt.show()\n",
    "\n",
    "assert np.mean(history[:10]) > np.mean(history[-10:]), \"RNN didn't converge.\""
   ]
  },
  {
   "cell_type": "markdown",
   "metadata": {
    "button": false,
    "deletable": true,
    "new_sheet": false,
    "run_control": {
     "read_only": false
    }
   },
   "source": [
    "### RNN: sampling\n",
    "Once we've trained our network a bit, let's get to actually generating stuff. \n",
    "All we need is the single rnn step function you have defined in `char_rnn.forward`."
   ]
  },
  {
   "cell_type": "code",
   "execution_count": 19,
   "metadata": {
    "button": false,
    "collapsed": true,
    "deletable": true,
    "new_sheet": false,
    "run_control": {
     "read_only": false
    }
   },
   "outputs": [],
   "source": [
    "def generate_sample(char_rnn, seed_phrase=' ', max_length=MAX_LENGTH, temperature=1.0):\n",
    "    '''\n",
    "    The function generates text given a phrase of length at least SEQ_LENGTH.\n",
    "    :param seed_phrase: prefix characters. The RNN is asked to continue the phrase\n",
    "    :param max_length: maximum output length, including seed_phrase\n",
    "    :param temperature: coefficient for sampling.  higher temperature produces more chaotic outputs,\n",
    "                        smaller temperature converges to the single most likely output\n",
    "    '''\n",
    "    \n",
    "    x_sequence = [token_to_id[token] for token in seed_phrase]\n",
    "    x_sequence = torch.tensor([x_sequence], dtype=torch.int64)\n",
    "    hid_state = char_rnn.initial_state(batch_size=1)\n",
    "    \n",
    "    #feed the seed phrase, if any\n",
    "    for i in range(len(seed_phrase) - 1):\n",
    "        hid_state, _ = char_rnn(x_sequence[:, i], hid_state)\n",
    "    \n",
    "    #start generating\n",
    "    for _ in range(max_length - len(seed_phrase)):\n",
    "        hid_state, logp_next = char_rnn(x_sequence[:, -1], hid_state)\n",
    "        p_next = F.softmax(logp_next / temperature, dim=-1).data.numpy()[0]\n",
    "        \n",
    "        # sample next token and push it back into x_sequence\n",
    "        next_ix = np.random.choice(num_tokens,p=p_next)\n",
    "        next_ix = torch.tensor([[next_ix]], dtype=torch.int64)\n",
    "        x_sequence = torch.cat([x_sequence, next_ix], dim=1)\n",
    "        \n",
    "    return ''.join([tokens[ix] for ix in x_sequence.data.numpy()[0]])"
   ]
  },
  {
   "cell_type": "code",
   "execution_count": 49,
   "metadata": {
    "button": false,
    "collapsed": false,
    "deletable": true,
    "new_sheet": false,
    "run_control": {
     "read_only": false
    }
   },
   "outputs": [
    {
     "name": "stdout",
     "output_type": "stream",
     "text": [
      " Gann         n \n",
      " Khllden        \n",
      " Trby           \n",
      " Elete          \n",
      " Fintariin      \n",
      " EvIsuit        \n",
      " Nuerie         \n",
      " Auankennse     \n",
      " Asgvtdlemte    \n",
      " Pervoa         \n"
     ]
    }
   ],
   "source": [
    "for _ in range(10):\n",
    "    print(generate_sample(char_rnn))"
   ]
  },
  {
   "cell_type": "code",
   "execution_count": 21,
   "metadata": {
    "button": false,
    "collapsed": false,
    "deletable": true,
    "new_sheet": false,
    "run_control": {
     "read_only": false
    }
   },
   "outputs": [
    {
     "ename": "TypeError",
     "evalue": "an integer is required (got type list)",
     "output_type": "error",
     "traceback": [
      "\u001b[0;31m---------------------------------------------------------------------------\u001b[0m",
      "\u001b[0;31mTypeError\u001b[0m                                 Traceback (most recent call last)",
      "\u001b[0;32m<ipython-input-21-7dcc9ac72d9d>\u001b[0m in \u001b[0;36m<module>\u001b[0;34m()\u001b[0m\n\u001b[1;32m      1\u001b[0m \u001b[0;32mfor\u001b[0m \u001b[0m_\u001b[0m \u001b[0;32min\u001b[0m \u001b[0mrange\u001b[0m\u001b[0;34m(\u001b[0m\u001b[0;36m50\u001b[0m\u001b[0;34m)\u001b[0m\u001b[0;34m:\u001b[0m\u001b[0;34m\u001b[0m\u001b[0m\n\u001b[0;32m----> 2\u001b[0;31m     \u001b[0mprint\u001b[0m\u001b[0;34m(\u001b[0m\u001b[0mgenerate_sample\u001b[0m\u001b[0;34m(\u001b[0m\u001b[0mchar_rnn\u001b[0m\u001b[0;34m,\u001b[0m \u001b[0mseed_phrase\u001b[0m\u001b[0;34m=\u001b[0m\u001b[0;34m''\u001b[0m\u001b[0;34m)\u001b[0m\u001b[0;34m)\u001b[0m\u001b[0;34m\u001b[0m\u001b[0m\n\u001b[0m",
      "\u001b[0;32m<ipython-input-19-1b0fc10dcbab>\u001b[0m in \u001b[0;36mgenerate_sample\u001b[0;34m(char_rnn, seed_phrase, max_length, temperature)\u001b[0m\n\u001b[1;32m      9\u001b[0m \u001b[0;34m\u001b[0m\u001b[0m\n\u001b[1;32m     10\u001b[0m     \u001b[0mx_sequence\u001b[0m \u001b[0;34m=\u001b[0m \u001b[0;34m[\u001b[0m\u001b[0mtoken_to_id\u001b[0m\u001b[0;34m[\u001b[0m\u001b[0mtoken\u001b[0m\u001b[0;34m]\u001b[0m \u001b[0;32mfor\u001b[0m \u001b[0mtoken\u001b[0m \u001b[0;32min\u001b[0m \u001b[0mseed_phrase\u001b[0m\u001b[0;34m]\u001b[0m\u001b[0;34m\u001b[0m\u001b[0m\n\u001b[0;32m---> 11\u001b[0;31m     \u001b[0mx_sequence\u001b[0m \u001b[0;34m=\u001b[0m \u001b[0mtorch\u001b[0m\u001b[0;34m.\u001b[0m\u001b[0mtensor\u001b[0m\u001b[0;34m(\u001b[0m\u001b[0;34m[\u001b[0m\u001b[0mx_sequence\u001b[0m\u001b[0;34m]\u001b[0m\u001b[0;34m,\u001b[0m \u001b[0mdtype\u001b[0m\u001b[0;34m=\u001b[0m\u001b[0mtorch\u001b[0m\u001b[0;34m.\u001b[0m\u001b[0mint64\u001b[0m\u001b[0;34m)\u001b[0m\u001b[0;34m\u001b[0m\u001b[0m\n\u001b[0m\u001b[1;32m     12\u001b[0m     \u001b[0mhid_state\u001b[0m \u001b[0;34m=\u001b[0m \u001b[0mchar_rnn\u001b[0m\u001b[0;34m.\u001b[0m\u001b[0minitial_state\u001b[0m\u001b[0;34m(\u001b[0m\u001b[0mbatch_size\u001b[0m\u001b[0;34m=\u001b[0m\u001b[0;36m1\u001b[0m\u001b[0;34m)\u001b[0m\u001b[0;34m\u001b[0m\u001b[0m\n\u001b[1;32m     13\u001b[0m \u001b[0;34m\u001b[0m\u001b[0m\n",
      "\u001b[0;31mTypeError\u001b[0m: an integer is required (got type list)"
     ]
    }
   ],
   "source": [
    "for _ in range(50):\n",
    "    print(generate_sample(char_rnn, seed_phrase=''))"
   ]
  },
  {
   "cell_type": "markdown",
   "metadata": {
    "button": false,
    "deletable": true,
    "new_sheet": false,
    "run_control": {
     "read_only": false
    }
   },
   "source": [
    "### Try it out!\n",
    "You've just implemented a recurrent language model that can be tasked with generating any kind of sequence, so there's plenty of data you can try it on:\n",
    "\n",
    "* Novels/poems/songs of your favorite author\n",
    "* News titles/clickbait titles\n",
    "* Source code of Linux or Tensorflow\n",
    "* Molecules in [smiles](https://en.wikipedia.org/wiki/Simplified_molecular-input_line-entry_system) format\n",
    "* Melody in notes/chords format\n",
    "* Ikea catalog titles\n",
    "* Pokemon names\n",
    "* Cards from Magic, the Gathering / Hearthstone\n",
    "\n",
    "If you're willing to give it a try, here's what you wanna look at:\n",
    "* Current data format is a sequence of lines, so a novel can be formatted as a list of sentences. Alternatively, you can change data preprocessing altogether.\n",
    "* While some datasets are readily available, others can only be scraped from the web. Try `Selenium` or `Scrapy` for that.\n",
    "* Make sure MAX_LENGTH is adjusted for longer datasets. There's also a bonus section about dynamic RNNs at the bottom.\n",
    "* More complex tasks require larger RNN architecture, try more neurons or several layers. It would also require more training iterations.\n",
    "* Long-term dependencies in music, novels or molecules are better handled with LSTM or GRU\n",
    "\n",
    "__Good hunting!__"
   ]
  },
  {
   "cell_type": "markdown",
   "metadata": {
    "button": false,
    "collapsed": true,
    "deletable": true,
    "new_sheet": false,
    "run_control": {
     "read_only": false
    }
   },
   "source": [
    "### More seriously\n",
    "\n",
    "What we just did is a manual low-level implementation of RNN. While it's cool, i guess you won't like the idea of re-writing it from scratch on every occasion. \n",
    "\n",
    "As you might have guessed, torch has a solution for this. To be more specific, there are two options:\n",
    "* `nn.RNNCell(emb_size, rnn_num_units)` - implements a single step of RNN just like you did. Basically concat-linear-tanh\n",
    "* `nn.RNN(emb_size, rnn_num_units` - implements the whole rnn_loop for you.\n",
    "\n",
    "There's also `nn.LSTMCell` vs `nn.LSTM`, `nn.GRUCell` vs `nn.GRU`, etc. etc.\n",
    "\n",
    "In this example we'll rewrite the char_rnn and rnn_loop using high-level rnn API."
   ]
  },
  {
   "cell_type": "code",
   "execution_count": 22,
   "metadata": {
    "button": false,
    "collapsed": true,
    "deletable": true,
    "new_sheet": false,
    "run_control": {
     "read_only": false
    }
   },
   "outputs": [],
   "source": [
    "class CharRNNLoop(nn.Module):\n",
    "    def __init__(self, num_tokens=num_tokens, emb_size=16, rnn_num_units=64):\n",
    "        super(self.__class__, self).__init__()\n",
    "        self.emb = nn.Embedding(num_tokens, emb_size)\n",
    "        self.rnn = nn.RNN(emb_size, rnn_num_units, batch_first=True)\n",
    "        self.hid_to_logits = nn.Linear(rnn_num_units, num_tokens)\n",
    "        \n",
    "    def forward(self, x):\n",
    "        assert isinstance(x, Variable) and isinstance(x.data, torch.LongTensor)\n",
    "        h_seq, _ = self.rnn(self.emb(x))\n",
    "        next_logits = self.hid_to_logits(h_seq)\n",
    "        next_logp = F.log_softmax(next_logits, dim=-1)\n",
    "        return next_logp\n",
    "    \n",
    "model = CharRNNLoop()"
   ]
  },
  {
   "cell_type": "code",
   "execution_count": 23,
   "metadata": {
    "button": false,
    "collapsed": true,
    "deletable": true,
    "new_sheet": false,
    "run_control": {
     "read_only": false
    }
   },
   "outputs": [],
   "source": [
    "# the model applies over the whole sequence\n",
    "batch_ix = to_matrix(sample(lines, 32), max_len=MAX_LENGTH)\n",
    "batch_ix = Variable(torch.LongTensor(batch_ix))\n",
    "\n",
    "logp_seq = model(batch_ix)\n",
    "\n",
    "# compute loss. This time we use nll_loss with some duct tape\n",
    "loss = F.nll_loss(logp_seq[:, 1:].contiguous().view(-1, num_tokens), \n",
    "                  batch_ix[:, :-1].contiguous().view(-1))\n",
    "\n",
    "loss.backward()"
   ]
  },
  {
   "cell_type": "markdown",
   "metadata": {
    "button": false,
    "collapsed": true,
    "deletable": true,
    "new_sheet": false,
    "run_control": {
     "read_only": false
    }
   },
   "source": [
    "Here's another example"
   ]
  },
  {
   "cell_type": "code",
   "execution_count": 94,
   "metadata": {
    "button": false,
    "collapsed": true,
    "deletable": true,
    "new_sheet": false,
    "run_control": {
     "read_only": false
    }
   },
   "outputs": [],
   "source": [
    "import torch, torch.nn as nn\n",
    "import torch.nn.functional as F\n",
    "from torch.autograd import Variable\n",
    "\n",
    "class CharLSTMCell(nn.Module):\n",
    "    \"\"\"\n",
    "    Implements something like CharRNNCell, but with LSTM\n",
    "    \"\"\"\n",
    "    def __init__(self, num_tokens=len(tokens), embedding_size=16, rnn_num_units=64):\n",
    "        super(self.__class__,self).__init__()\n",
    "        self.num_units = rnn_num_units\n",
    "        self.emb = nn.Embedding(num_tokens, embedding_size)\n",
    "        self.lstm = nn.LSTMCell(embedding_size, rnn_num_units)\n",
    "        self.rnn_to_logits = nn.Linear(rnn_num_units, num_tokens)\n",
    "        \n",
    "    def forward(self, x, prev_state):\n",
    "        (prev_h, prev_c) = prev_state\n",
    "        (next_h, next_c) = self.lstm(self.emb(x), (prev_h, prev_c))\n",
    "        logits = self.rnn_to_logits(next_h)\n",
    "        \n",
    "        return (next_h, next_c), F.log_softmax(logits, -1)\n",
    "    \n",
    "    def initial_state(self, batch_size):\n",
    "        \"\"\" LSTM has two state variables, cell and hid \"\"\"\n",
    "        return Variable(torch.zeros(batch_size, self.num_units)), Variable(torch.zeros(batch_size, self.num_units))\n",
    "    \n",
    "char_lstm = CharLSTMCell()"
   ]
  },
  {
   "cell_type": "code",
   "execution_count": 95,
   "metadata": {
    "button": false,
    "collapsed": true,
    "deletable": true,
    "new_sheet": false,
    "run_control": {
     "read_only": false
    }
   },
   "outputs": [],
   "source": [
    "def lstm_loop(char_rnn, batch_ix):\n",
    "    \"\"\"\n",
    "    Computes log P(next_character) for all time-steps in lines_ix\n",
    "    :param lines_ix: an int32 matrix of shape [batch, time], output of to_matrix(lines)\n",
    "    \"\"\"\n",
    "    batch_size, max_length = batch_ix.size()\n",
    "    hid_state = char_lstm.initial_state(batch_size)\n",
    "    logprobs = []\n",
    "\n",
    "    for x_t in batch_ix.transpose(0,1):\n",
    "        hid_state, logp_next = char_lstm(x_t, hid_state)  # <-- here we call your one-step code\n",
    "        logprobs.append(logp_next)\n",
    "        \n",
    "    return torch.stack(logprobs, dim=1)"
   ]
  },
  {
   "cell_type": "code",
   "execution_count": 96,
   "metadata": {
    "button": false,
    "collapsed": true,
    "deletable": true,
    "new_sheet": false,
    "run_control": {
     "read_only": false
    }
   },
   "outputs": [],
   "source": [
    "opt = torch.optim.Adam(char_lstm.parameters())"
   ]
  },
  {
   "cell_type": "code",
   "execution_count": 97,
   "metadata": {
    "button": false,
    "collapsed": true,
    "deletable": true,
    "new_sheet": false,
    "run_control": {
     "read_only": false
    }
   },
   "outputs": [],
   "source": [
    "history = []"
   ]
  },
  {
   "cell_type": "code",
   "execution_count": 98,
   "metadata": {
    "button": false,
    "collapsed": false,
    "deletable": true,
    "new_sheet": false,
    "run_control": {
     "read_only": false
    }
   },
   "outputs": [
    {
     "data": {
      "image/png": "[encoded data removed]",
      "text/plain": [
       "<matplotlib.figure.Figure at 0x10e841dd8>"
      ]
     },
     "metadata": {},
     "output_type": "display_data"
    }
   ],
   "source": [
    "for i in range(10000):\n",
    "    batch_ix = to_matrix(sample(lines, 32), max_len=MAX_LENGTH)\n",
    "    batch_ix = torch.tensor(batch_ix, dtype=torch.int64)\n",
    "    \n",
    "    logp_seq = lstm_loop(char_lstm, batch_ix)\n",
    "    \n",
    "    predictions_logp = logp_seq[:, :-1]\n",
    "    actual_next_tokens = batch_ix[:, 1:]\n",
    "\n",
    "    logp_next = torch.gather(predictions_logp, dim=2, index=actual_next_tokens[:,:,None])\n",
    "\n",
    "    loss = -logp_next.mean()\n",
    "\n",
    "    loss.backward()\n",
    "    \n",
    "    opt.step()\n",
    "    opt.zero_grad()\n",
    "    \n",
    "    history.append(loss.data.numpy())\n",
    "    if (i+1)%100==0:\n",
    "        clear_output(True)\n",
    "        plt.plot(history,label='loss')\n",
    "        plt.legend()\n",
    "        plt.show()\n",
    "\n",
    "assert np.mean(history[:10]) > np.mean(history[-10:]), \"RNN didn't converge.\""
   ]
  },
  {
   "cell_type": "code",
   "execution_count": 102,
   "metadata": {
    "button": false,
    "collapsed": false,
    "deletable": true,
    "new_sheet": false,
    "run_control": {
     "read_only": false
    }
   },
   "outputs": [
    {
     "name": "stdout",
     "output_type": "stream",
     "text": [
      "DASSTRATAND     \n",
      "DÅGEKTANT       \n",
      "DYCKSTER        \n",
      "DISKLOVSTAD     \n",
      "DÅSKLÄCKHEM     \n",
      "DATSUPERM       \n",
      "DREJOGEGRGGGGITT\n",
      "DREDRATTROJGRIDA\n",
      "DIKRATTEKTIG    \n",
      "DÅGORS          \n",
      "DÅGGENSTA       \n",
      "DITRMY          \n",
      "DÅSURDELIKER    \n",
      "DÅVERMGLJRDOOGGR\n",
      "DUPPSÄR         \n",
      "DASSEKITÅN      \n",
      "DAMSERBBROSKROLM\n",
      "DÅBBANHATDALDE  \n",
      "DIDRESSKRUGA    \n",
      "DITRATBOOSNET   \n",
      "DUPO            \n",
      "DÅNNT FLOS      \n",
      "DYVGERT         \n",
      "DÅBÄGLA         \n",
      "DITROTESTA      \n",
      "DRIDEKTRUKT     \n",
      "DYGRATULLANG    \n",
      "DÅSKRVBOKA      \n",
      "DIRTRASSALK     \n",
      "DOPPOKTA        \n",
      "DREGÅNNATTOBORP \n",
      "DÄGSKRIGÅ       \n",
      "DBÅBO           \n",
      "DOPPATT         \n",
      "DOPGESSNA       \n",
      "DÅSORGEMRIG     \n",
      "DITREMAND       \n",
      "DYGREKA         \n",
      "DMJUBRODNEJTA   \n",
      "DITPPOTET       \n",
      "DWWYTSAM        \n",
      "DYGERTT         \n",
      "DASSTRALIGNIA   \n",
      "DRÖGMATCES      \n",
      "DOPPALLIG       \n",
      "DYGGEN          \n",
      "DITREDO         \n",
      "DÅBBOCKET       \n",
      "DIVRENSKÄR      \n",
      "DASSJORDDDSÖJÖ  \n"
     ]
    }
   ],
   "source": [
    "for _ in range(50):\n",
    "    print(generate_sample(char_lstm, seed_phrase='D'))"
   ]
  },
  {
   "cell_type": "code",
   "execution_count": 27,
   "metadata": {
    "button": false,
    "collapsed": true,
    "deletable": true,
    "new_sheet": false,
    "run_control": {
     "read_only": false
    }
   },
   "outputs": [],
   "source": [
    "# the model applies over the whole sequence\n",
    "batch_ix = to_matrix(sample(lines, 32), max_len=MAX_LENGTH)\n",
    "batch_ix = Variable(torch.LongTensor(batch_ix))\n",
    "\n",
    "logp_seq = rnn_loop(char_lstm, batch_ix)\n",
    "\n",
    "# compute loss. This time we use nll_loss with some duct tape\n",
    "loss = F.nll_loss(logp_seq[:, 1:].contiguous().view(-1, num_tokens), \n",
    "                  batch_ix[:, :-1].contiguous().view(-1))\n",
    "\n",
    "loss.backward()"
   ]
  },
  {
   "cell_type": "markdown",
   "metadata": {
    "button": false,
    "deletable": true,
    "new_sheet": false,
    "run_control": {
     "read_only": false
    }
   },
   "source": [
    "__Bonus quest: __ implement a model that uses 2 LSTM layers (the second lstm uses the first as input) and train it on your data."
   ]
  },
  {
   "cell_type": "code",
   "execution_count": 82,
   "metadata": {
    "button": false,
    "collapsed": true,
    "deletable": true,
    "new_sheet": false,
    "run_control": {
     "read_only": false
    }
   },
   "outputs": [],
   "source": [
    "from string import ascii_uppercase"
   ]
  },
  {
   "cell_type": "code",
   "execution_count": 83,
   "metadata": {
    "button": false,
    "collapsed": true,
    "deletable": true,
    "new_sheet": false,
    "run_control": {
     "read_only": false
    }
   },
   "outputs": [],
   "source": [
    "with open(\"/Users/alexajax/Desktop/ikea_names\", encoding='utf8') as f:\n",
    "    lines = [line.rstrip('\\n') for line in f.readlines()]"
   ]
  },
  {
   "cell_type": "code",
   "execution_count": 84,
   "metadata": {
    "button": false,
    "collapsed": true,
    "deletable": true,
    "new_sheet": false,
    "run_control": {
     "read_only": false
    }
   },
   "outputs": [],
   "source": [
    "names = []\n",
    "for line in lines:\n",
    "    name = ' '\n",
    "    i = 0\n",
    "    while (line[i] in ascii_uppercase+'ÄÅÖØ') and (i < len(line)-1):\n",
    "        name += line[i]\n",
    "        i += 1\n",
    "    names.append(name)"
   ]
  },
  {
   "cell_type": "code",
   "execution_count": 85,
   "metadata": {
    "button": false,
    "collapsed": false,
    "deletable": true,
    "new_sheet": false,
    "run_control": {
     "read_only": false
    }
   },
   "outputs": [
    {
     "data": {
      "text/plain": [
       "[' ABSORB',\n",
       " ' ADMETE',\n",
       " ' AGAM',\n",
       " ' AGEN',\n",
       " ' AGNARYD',\n",
       " ' AGNE',\n",
       " ' AINA',\n",
       " ' AKSDAL',\n",
       " ' AKURUM',\n",
       " ' AKUT',\n",
       " ' ALARM',\n",
       " ' ALEX',\n",
       " ' ALG',\n",
       " ' ALKALISK',\n",
       " ' ALLAK',\n",
       " ' ALLAMÅLA',\n",
       " ' ALSARP',\n",
       " ' ALSEDA',\n",
       " ' ALSTER',\n",
       " ' ALSVIK',\n",
       " ' ALVE',\n",
       " ' ALVINE',\n",
       " ' ALÄNG',\n",
       " ' AMALIA',\n",
       " ' AMON',\n",
       " ' AMORF',\n",
       " ' ANDREA',\n",
       " ' ANDRUP',\n",
       " ' ANDY',\n",
       " ' ANEBODA',\n",
       " ' ANEMON',\n",
       " ' ANITA',\n",
       " ' ANJA',\n",
       " ' ANNAMOA',\n",
       " ' ANNARS',\n",
       " ' ANNO',\n",
       " ' ANNONS',\n",
       " ' ANORDNA',\n",
       " ' ANRIK',\n",
       " ' ANSLUTA',\n",
       " ' ANSSI',\n",
       " ' ANTIFONI',\n",
       " ' ANTIK',\n",
       " ' ANTILOP',\n",
       " ' ANTONIUS',\n",
       " ' APA',\n",
       " ' APELSKÄR',\n",
       " ' ARHOLMA',\n",
       " ' ARILD',\n",
       " ' ARRAK',\n",
       " ' ARV',\n",
       " ' ARVINN',\n",
       " ' ASKER',\n",
       " ' ASPEKT',\n",
       " ' ASPELUND',\n",
       " ' ASPUDDEN',\n",
       " ' ASPVIK',\n",
       " ' ASTER',\n",
       " ' ASTRAKAN',\n",
       " ' ATNA',\n",
       " ' ATTEST',\n",
       " ' ATTITYD',\n",
       " ' AUKRA',\n",
       " ' ',\n",
       " ' BAGGE',\n",
       " ' BAGIS',\n",
       " ' BALK',\n",
       " ' BALSER',\n",
       " ' BAND',\n",
       " ' BAREN',\n",
       " ' BARNSLIG',\n",
       " ' BAROMETER',\n",
       " ' BASISK',\n",
       " ' BASTANT',\n",
       " ' BATIST',\n",
       " ' BEATA',\n",
       " ' BEDDINGE',\n",
       " ' BEHANDLA',\n",
       " ' BEHÖVD',\n",
       " ' BEKVÄM',\n",
       " ' BELLINGE',\n",
       " ' BENJAMIN',\n",
       " ' BENNO',\n",
       " ' BERGSBO',\n",
       " ' BERIT',\n",
       " ' BERNHARD',\n",
       " ' BERTA',\n",
       " ' BERTBY',\n",
       " ' BERTIL',\n",
       " ' BERYLL',\n",
       " ' BERÄTTA',\n",
       " ' BERÖM',\n",
       " ' BESKÅDA',\n",
       " ' BESTÅ',\n",
       " ' BETA',\n",
       " ' BEVARA',\n",
       " ' BIBBI',\n",
       " ' BIBY',\n",
       " ' BIGARRÅ',\n",
       " ' BIGUM',\n",
       " ' BILD',\n",
       " ' BILDAD',\n",
       " ' BILLSTA',\n",
       " ' BILLY',\n",
       " ' BISSA',\n",
       " ' BITIG',\n",
       " ' BJURSTA',\n",
       " ' BJURÖN',\n",
       " ' BJÄRNUM',\n",
       " ' BJÖRKEFALL',\n",
       " ' BJÖRKEN',\n",
       " ' BJÖRKUDDEN',\n",
       " ' BJÖRNHOLMEN',\n",
       " ' BLAD',\n",
       " ' BLADET',\n",
       " ' BLADHULT',\n",
       " ' BLANDA',\n",
       " ' BLANKEN',\n",
       " ' BLASKA',\n",
       " ' BLECKA',\n",
       " ' BLIMP',\n",
       " ' BLIXT',\n",
       " ' BLOCK',\n",
       " ' BLOM',\n",
       " ' BLOMMA',\n",
       " ' BLOMSTER',\n",
       " ' BLOMÖRT',\n",
       " ' BLOSSANDE',\n",
       " ' BLUNDA',\n",
       " ' BLÅSIPPA',\n",
       " ' BOALT',\n",
       " ' BOASJÖ',\n",
       " ' BOHOLMEN',\n",
       " ' BOLIDEN',\n",
       " ' BOLLÖ',\n",
       " ' BOLMEN',\n",
       " ' BOMULL',\n",
       " ' BONDIS',\n",
       " ' BONETT',\n",
       " ' BOREN',\n",
       " ' BORNHOLM',\n",
       " ' BORRBY',\n",
       " ' BORRIS',\n",
       " ' BOSSE',\n",
       " ' BOÅS',\n",
       " ' BRALLIS',\n",
       " ' BRANÄS',\n",
       " ' BRARUP',\n",
       " ' BRASA',\n",
       " ' BRAVERA',\n",
       " ' BRAVUR',\n",
       " ' BREDSKÄR',\n",
       " ' BRODER',\n",
       " ' BRODYR',\n",
       " ' BROMMÖ',\n",
       " ' BRUM',\n",
       " ' BRUNKRISSLA',\n",
       " ' BRYNE',\n",
       " ' BRÄDA',\n",
       " ' BULLAR',\n",
       " ' BUMERANG',\n",
       " ' BURKEN',\n",
       " ' BURS',\n",
       " ' BURSJÖN',\n",
       " ' BYGEL',\n",
       " ' BYGGA',\n",
       " ' BYHOLMA',\n",
       " ' BÅDALEN',\n",
       " ' BÅGVIK',\n",
       " ' BÅVEN',\n",
       " ' BÄRBAR',\n",
       " ' BÄRBY',\n",
       " ' BÄSTIS',\n",
       " ' BÖJA',\n",
       " ' BÖLSNÄS',\n",
       " ' BÖRJE',\n",
       " ' ',\n",
       " ' CALYPSO',\n",
       " ' CAPITA',\n",
       " ' CECILIA',\n",
       " ' CELEBER',\n",
       " ' CENTRERA',\n",
       " ' CESIUM',\n",
       " ' CHARM',\n",
       " ' CHARMÖR',\n",
       " ' CIRKEL',\n",
       " ' CLIPS',\n",
       " ' CYRIL',\n",
       " ' ',\n",
       " ' DACKE',\n",
       " ' DALFRED',\n",
       " ' DALSELV',\n",
       " ' DAMAST',\n",
       " ' DATA',\n",
       " ' DAVE',\n",
       " ' DECENNIUM',\n",
       " ' DEGERNES',\n",
       " ' DEKA',\n",
       " ' DEKAD',\n",
       " ' DELIKAT',\n",
       " ' DESSERT',\n",
       " ' DETOLF',\n",
       " ' DIGNITET',\n",
       " ' DILLING',\n",
       " ' DIMMA',\n",
       " ' DIMPA',\n",
       " ' DINERA',\n",
       " ' DIOD',\n",
       " ' DIODER',\n",
       " ' DIREKT',\n",
       " ' DISKA',\n",
       " ' DISKRET',\n",
       " ' DISTANS',\n",
       " ' DITO',\n",
       " ' DITTE',\n",
       " ' DIVISION',\n",
       " ' DJUR',\n",
       " ' DOCKSTA',\n",
       " ' DOFTA',\n",
       " ' DOKUMENT',\n",
       " ' DOLD',\n",
       " ' DOMSJÖ',\n",
       " ' DRAGAN',\n",
       " ' DRAGON',\n",
       " ' DRAGÖR',\n",
       " ' DRIBBLA',\n",
       " ' DRILL',\n",
       " ' DROPPAR',\n",
       " ' DROPS',\n",
       " ' DRYCKJOM',\n",
       " ' DRÄLLA',\n",
       " ' DRÖMMA',\n",
       " ' DRÖMMAR',\n",
       " ' DRÖNA',\n",
       " ' DUDERÖ',\n",
       " ' DUKTIG',\n",
       " ' DUTT',\n",
       " ' DVALA',\n",
       " ' DYGN',\n",
       " ' DYNING',\n",
       " ' DÅTID',\n",
       " ' DÄMPA',\n",
       " ' DÄNKA',\n",
       " ' ',\n",
       " ' EDGAR',\n",
       " ' EDIT',\n",
       " ' EDLAND',\n",
       " ' EDSVIK',\n",
       " ' EFFEKTIV',\n",
       " ' EGBY',\n",
       " ' EGEBY',\n",
       " ' EIDE',\n",
       " ' EINA',\n",
       " ' EKARP',\n",
       " ' EKBY',\n",
       " ' EKORRE',\n",
       " ' EKTORP',\n",
       " ' EKÅS',\n",
       " ' ELDIG',\n",
       " ' ELGÅ',\n",
       " ' ELIAS',\n",
       " ' ELISABET',\n",
       " ' ELLY',\n",
       " ' ELSFJORD',\n",
       " ' ELVERDAM',\n",
       " ' EMSEN',\n",
       " ' EMU',\n",
       " ' ENDIV',\n",
       " ' ENERGISK',\n",
       " ' ENGAN',\n",
       " ' ENGENES',\n",
       " ' ENGER',\n",
       " ' ENJE',\n",
       " ' ENSEMBLE',\n",
       " ' ENSEN',\n",
       " ' ENVIS',\n",
       " ' EPISTEL',\n",
       " ' EPOK',\n",
       " ' ERBIUM',\n",
       " ' ERFJORD',\n",
       " ' ERIK',\n",
       " ' ERIKSLUND',\n",
       " ' ERLING',\n",
       " ' ERSERUD',\n",
       " ' ERSLEV',\n",
       " ' EVABRITT',\n",
       " ' EVERT',\n",
       " ' EXKLUSIVT',\n",
       " ' EXPEDIT',\n",
       " ' ',\n",
       " ' FABIAN',\n",
       " ' FABLER',\n",
       " ' FADO',\n",
       " ' FAMNIG',\n",
       " ' FANAHOLM',\n",
       " ' FANSTA',\n",
       " ' FANTAST',\n",
       " ' FANTASTISK',\n",
       " ' FARTYG',\n",
       " ' FARUM',\n",
       " ' FAS',\n",
       " ' FASTBO',\n",
       " ' FATTBAR',\n",
       " ' FAVORIT',\n",
       " ' FEJKA',\n",
       " ' FEJÖ',\n",
       " ' FELICIA',\n",
       " ' FEMMEN',\n",
       " ' FENOMEN',\n",
       " ' FIALENA',\n",
       " ' FIBBE',\n",
       " ' FIDJETUN',\n",
       " ' FIGGJO',\n",
       " ' FIGUR',\n",
       " ' FIL',\n",
       " ' FILLSTA',\n",
       " ' FILT',\n",
       " ' FINLIR',\n",
       " ' FINNVIK',\n",
       " ' FINTORP',\n",
       " ' FIRA',\n",
       " ' FISK',\n",
       " ' FISKÖ',\n",
       " ' FIXA',\n",
       " ' FJORDGARD',\n",
       " ' FJÄDRAR',\n",
       " ' FJÄLLSTA',\n",
       " ' FLADDRA',\n",
       " ' FLAKSA',\n",
       " ' FLANÖR',\n",
       " ' FLATEN',\n",
       " ' FLIT',\n",
       " ' FLOKATI',\n",
       " ' FLOKENES',\n",
       " ' FLORA',\n",
       " ' FLORERA',\n",
       " ' FLORVÅG',\n",
       " ' FLORÖ',\n",
       " ' FLUKTA',\n",
       " ' FLYGEL',\n",
       " ' FLYN',\n",
       " ' FLYT',\n",
       " ' FLYTTA',\n",
       " ' FLÅREN',\n",
       " ' FLÄCKIG',\n",
       " ' FLÄNG',\n",
       " ' FLÄRKE',\n",
       " ' FLÄTA',\n",
       " ' FLÖRT',\n",
       " ' FNISS',\n",
       " ' FOLK',\n",
       " ' FONNES',\n",
       " ' FORM',\n",
       " ' FORMAT',\n",
       " ' FORSYTIA',\n",
       " ' FORSÅ',\n",
       " ' FOSSING',\n",
       " ' FOTO',\n",
       " ' FRAKTA',\n",
       " ' FRAMSTÅ',\n",
       " ' FRAMTID',\n",
       " ' FRANKLIN',\n",
       " ' FREDEN',\n",
       " ' FREDRIK',\n",
       " ' FREDRIKA',\n",
       " ' FROST',\n",
       " ' FROSTA',\n",
       " ' FRYKEN',\n",
       " ' FRÄCK',\n",
       " ' FRÄJEN',\n",
       " ' FRÖ',\n",
       " ' FUGA',\n",
       " ' FUSION',\n",
       " ' FYLLEN',\n",
       " ' FÅBORG',\n",
       " ' FÅNGST',\n",
       " ' FÅVANG',\n",
       " ' FÄRGGLAD',\n",
       " ' FÄRGRIK',\n",
       " ' FÄRM',\n",
       " ' FÖRHÖJA',\n",
       " ' FÖRNUFT',\n",
       " ' FÖRSIKTIG',\n",
       " ' FÖRVAR',\n",
       " ' ',\n",
       " ' GABBEH',\n",
       " ' GALANT',\n",
       " ' GALEJ',\n",
       " ' GASELL',\n",
       " ' GATTEN',\n",
       " ' GEDSER',\n",
       " ' GEMAK',\n",
       " ' GIDEÅ',\n",
       " ' GILBERT',\n",
       " ' GILDA',\n",
       " ' GIMÅN',\n",
       " ' GLANA',\n",
       " ' GLASHOLM',\n",
       " ' GLENN',\n",
       " ' GLES',\n",
       " ' GLIMMA',\n",
       " ' GLIMT',\n",
       " ' GLIS',\n",
       " ' GLITTER',\n",
       " ' GLOBAL',\n",
       " ' GLÄNSA',\n",
       " ' GLÄTTIG',\n",
       " ' GLÖDA',\n",
       " ' GNARP',\n",
       " ' GNISTRA',\n",
       " ' GODIS',\n",
       " ' GODMORGON',\n",
       " ' GOLIAT',\n",
       " ' GORM',\n",
       " ' GOSA',\n",
       " ' GOSIG',\n",
       " ' GRANAT',\n",
       " ' GRANEMO',\n",
       " ' GRANLIDEN',\n",
       " ' GRANÅS',\n",
       " ' GRAPEFRUKT',\n",
       " ' GRATINERA',\n",
       " ' GRAVYR',\n",
       " ' GREGOR',\n",
       " ' GREJ',\n",
       " ' GREVBÄCK',\n",
       " ' GRILLA',\n",
       " ' GRILLER',\n",
       " ' GRIMEN',\n",
       " ' GRIMLE',\n",
       " ' GRIMSTAD',\n",
       " ' GRIP',\n",
       " ' GRODA',\n",
       " ' GROGGY',\n",
       " ' GROLAND',\n",
       " ' GRUNDTAL',\n",
       " ' GRUNKA',\n",
       " ' GRYBY',\n",
       " ' GRÄNUM',\n",
       " ' GRÄS',\n",
       " ' GRÖNÖ',\n",
       " ' GULDLIN',\n",
       " ' GULLHOLMEN',\n",
       " ' GULLIVER',\n",
       " ' GULLUNGE',\n",
       " ' GUNILLA',\n",
       " ' GUNVOR',\n",
       " ' GURKÖRT',\n",
       " ' GUSTAV',\n",
       " ' GYLLEN',\n",
       " ' GYNNSAM',\n",
       " ' GÅNGBAR',\n",
       " ' GÅSGRUND',\n",
       " ' GÅVA',\n",
       " ' GÄSPA',\n",
       " ' GÖMMAREN',\n",
       " ' ',\n",
       " ' HAGALUND',\n",
       " ' HAGAVIK',\n",
       " ' HAKE',\n",
       " ' HALLARYD',\n",
       " ' HALOGEN',\n",
       " ' HALSTED',\n",
       " ' HAMNVIK',\n",
       " ' HAMPEN',\n",
       " ' HANNES',\n",
       " ' HARESTUA',\n",
       " ' HAROLA',\n",
       " ' HARRY',\n",
       " ' HASSEL',\n",
       " ' HATTEN',\n",
       " ' HAVBRO',\n",
       " ' HAVTORN',\n",
       " ' HEAT',\n",
       " ' HEDDA',\n",
       " ' HEDRA',\n",
       " ' HEIDAL',\n",
       " ' HEIMDAL',\n",
       " ' HEJKA',\n",
       " ' HELLUM',\n",
       " ' HELMER',\n",
       " ' HELSINGÖR',\n",
       " ' HEMLIS',\n",
       " ' HEMMA',\n",
       " ' HEMMET',\n",
       " ' HEMNES',\n",
       " ' HEMSJÖ',\n",
       " ' HENRIKSDAL',\n",
       " ' HENSVIK',\n",
       " ' HERAND',\n",
       " ' HERMAN',\n",
       " ' HERMELIN',\n",
       " ' HESSUM',\n",
       " ' HJARTDAL',\n",
       " ' HJELMÅS',\n",
       " ' HJUVIK',\n",
       " ' HJÄRTA',\n",
       " ' HJÖRDIS',\n",
       " ' HOB',\n",
       " ' HOJTA',\n",
       " ' HOO',\n",
       " ' HOPA',\n",
       " ' HOPEN',\n",
       " ' HOSLE',\n",
       " ' HOVEN',\n",
       " ' HOVET',\n",
       " ' HOVSKÄR',\n",
       " ' HOVÅS',\n",
       " ' HUGLO',\n",
       " ' HUGO',\n",
       " ' HULDA',\n",
       " ' HULINGEN',\n",
       " ' HULTET',\n",
       " ' HULTÖ',\n",
       " ' HUSNES',\n",
       " ' HUSVIK',\n",
       " ' HUSÅ',\n",
       " ' HUSÖN',\n",
       " ' HUTTEN',\n",
       " ' HYLLIS',\n",
       " ' HYTTAN',\n",
       " ' HÅBOL',\n",
       " ' HÅLLARE',\n",
       " ' HÅVA',\n",
       " ' HÄGG',\n",
       " ' HÄLSA',\n",
       " ' HÄSTVEDA',\n",
       " ' HÄSTÖ',\n",
       " ' HÖLLVIKEN',\n",
       " ' HÖRBY',\n",
       " ' ',\n",
       " ' IBESTAD',\n",
       " ' IDEAL',\n",
       " ' IDEALISK',\n",
       " ' IDELIG',\n",
       " ' IDGRUND',\n",
       " ' IDYLL',\n",
       " ' IKEA',\n",
       " ' ILSBO',\n",
       " ' IMPULS',\n",
       " ' INDEX',\n",
       " ' INDIRA',\n",
       " ' INDO',\n",
       " ' INEZ',\n",
       " ' INFO',\n",
       " ' INGEMAR',\n",
       " ' INGER',\n",
       " ' INGO',\n",
       " ' INGOLF',\n",
       " ' INLOPP',\n",
       " ' INNER',\n",
       " ' INREDA',\n",
       " ' INSATS',\n",
       " ' IRIS',\n",
       " ' IRJA',\n",
       " ' IRMA',\n",
       " ' ISDANS',\n",
       " ' ISKORN',\n",
       " ' ISTAD',\n",
       " ' IVAR',\n",
       " ' IVETOFTA',\n",
       " ' ',\n",
       " ' JABBA',\n",
       " ' JAKOB',\n",
       " ' JANNE',\n",
       " ' JANSJÖ',\n",
       " ' JANUARI',\n",
       " ' JAREN',\n",
       " ' JAVNAKER',\n",
       " ' JEFF',\n",
       " ' JERRIK',\n",
       " ' JESPER',\n",
       " ' JIGGA',\n",
       " ' JOAKIM',\n",
       " ' JOHAN',\n",
       " ' JOKER',\n",
       " ' JOKKMOKK',\n",
       " ' JONAS',\n",
       " ' JONDAL',\n",
       " ' JONISK',\n",
       " ' JONSBERG',\n",
       " ' JONSBO',\n",
       " ' JORUN',\n",
       " ' JUBILAR',\n",
       " ' JUBLA',\n",
       " ' JULES',\n",
       " ' JULIUS',\n",
       " ' JULROS',\n",
       " ' JYLLINGE',\n",
       " ' JÄGRA',\n",
       " ' JÄMSUNDA',\n",
       " ' JÄRLEBO',\n",
       " ' JÖKEL',\n",
       " ' ',\n",
       " ' KAFFE',\n",
       " ' KAJ',\n",
       " ' KAJSA',\n",
       " ' KAJSASTINA',\n",
       " ' KALAS',\n",
       " ' KALASET',\n",
       " ' KALLT',\n",
       " ' KAMFER',\n",
       " ' KAMRATER',\n",
       " ' KANIN',\n",
       " ' KANIST',\n",
       " ' KAPA',\n",
       " ' KARBY',\n",
       " ' KARDEMUMMA',\n",
       " ' KARENS',\n",
       " ' KARLSKRONA',\n",
       " ' KARLSTAD',\n",
       " ' KARLSÖ',\n",
       " ' KARSTEN',\n",
       " ' KASSETT',\n",
       " ' KASTANJ',\n",
       " ' KATTRUP',\n",
       " ' KATTUDDEN',\n",
       " ' KAUSTBY',\n",
       " ' KAVALKAD',\n",
       " ' KAXIG',\n",
       " ' KELIG',\n",
       " ' KETTY',\n",
       " ' KIBÄK',\n",
       " ' KILAN',\n",
       " ' KILBY',\n",
       " ' KIRP',\n",
       " ' KIVSTA',\n",
       " ' KLACK',\n",
       " ' KLADD',\n",
       " ' KLAPPSTA',\n",
       " ' KLAVIATUR',\n",
       " ' KLAVSTA',\n",
       " ' KLEMENS',\n",
       " ' KLINGSBO',\n",
       " ' KLIPPAN',\n",
       " ' KLIPPIG',\n",
       " ' KLOBO',\n",
       " ' KLOSS',\n",
       " ' KLUBBO',\n",
       " ' KLUDD',\n",
       " ' KLÄPPE',\n",
       " ' KLÄTT',\n",
       " ' KNAPPA',\n",
       " ' KNASTER',\n",
       " ' KNIPSA',\n",
       " ' KNODD',\n",
       " ' KNOPPA',\n",
       " ' KNUBBIG',\n",
       " ' KNUFF',\n",
       " ' KNYCK',\n",
       " ' KNÖS',\n",
       " ' KOJA',\n",
       " ' KOLDBY',\n",
       " ' KOLJA',\n",
       " ' KOLON',\n",
       " ' KOMISK',\n",
       " ' KOMMERS',\n",
       " ' KOMPISAR',\n",
       " ' KOMPLEMENT',\n",
       " ' KONCIS',\n",
       " ' KONST',\n",
       " ' KOPPANG',\n",
       " ' KORALL',\n",
       " ' KORPO',\n",
       " ' KORREKT',\n",
       " ' KORSFJORD',\n",
       " ' KORT',\n",
       " ' KOSING',\n",
       " ' KOTTAR',\n",
       " ' KOTTE',\n",
       " ' KOTTEBO',\n",
       " ' KRABB',\n",
       " ' KRAFTIG',\n",
       " ' KRAM',\n",
       " ' KRAMA',\n",
       " ' KRAMFORS',\n",
       " ' KRAMSNÖ',\n",
       " ' KRISTALLER',\n",
       " ' KRITTER',\n",
       " ' KROBY',\n",
       " ' KROKEN',\n",
       " ' KROKVIK',\n",
       " ' KRUS',\n",
       " ' KRYP',\n",
       " ' KRYSSBO',\n",
       " ' KRÄMARE',\n",
       " ' KULLA',\n",
       " ' KULLEN',\n",
       " ' KURA',\n",
       " ' KUVERT',\n",
       " ' KVARNSTEN',\n",
       " ' KVART',\n",
       " ' KVARTA',\n",
       " ' KVARTAL',\n",
       " ' KVIBY',\n",
       " ' KVINTETT',\n",
       " ' KVINTOL',\n",
       " ' KVISSEL',\n",
       " ' KVIST',\n",
       " ' KYLIGT',\n",
       " ' KÅRABODA',\n",
       " ' KÄRNA',\n",
       " ' KÖGE',\n",
       " ' ',\n",
       " ' LACK',\n",
       " ' LADDA',\n",
       " ' LADE',\n",
       " ' LAGAN',\n",
       " ' LAGRA',\n",
       " ' LAIVA',\n",
       " ' LAMPAN',\n",
       " ' LANNI',\n",
       " ' LANSA',\n",
       " ' LAUKVIK',\n",
       " ' LAVER',\n",
       " ' LAXEBY',\n",
       " ' LEGITIM',\n",
       " ' LEGYM',\n",
       " ' LEIRVIK',\n",
       " ' LEKA',\n",
       " ' LEKMAN',\n",
       " ' LEKPLATS',\n",
       " ' LEKSVIK',\n",
       " ' LEN',\n",
       " ' LENA',\n",
       " ' LENDA',\n",
       " ' LERAN',\n",
       " ' LERBERG',\n",
       " ' LERBÄCK',\n",
       " ' LERDAL',\n",
       " ' LERSTA',\n",
       " ' LEVANGER',\n",
       " ' LIARED',\n",
       " ' LIATORP',\n",
       " ' LIDAN',\n",
       " ' LILJA',\n",
       " ' LILL',\n",
       " ' LILLABO',\n",
       " ' LILLBERG',\n",
       " ' LILLEBY',\n",
       " ' LILLESAND',\n",
       " ' LILLHOLMEN',\n",
       " ' LILLÅKER',\n",
       " ' LILLÅNGEN',\n",
       " ' LIMMAREN',\n",
       " ' LINDMON',\n",
       " ' LINDSDAL',\n",
       " ' LINDVED',\n",
       " ' LINGO',\n",
       " ' LINJE',\n",
       " ' LINNARP',\n",
       " ' LJUDA',\n",
       " ' LJUNG',\n",
       " ' LJUSDAL',\n",
       " ' LJUSNAN',\n",
       " ' LJUSÅS',\n",
       " ' LJUV',\n",
       " ' LJUVLIG',\n",
       " ' LOCK',\n",
       " ' LOGGA',\n",
       " ' LOKKA',\n",
       " ' LONEVÅG',\n",
       " ' LOSSNEN',\n",
       " ' LOTS',\n",
       " ' LOVANDE',\n",
       " ' LOVIKEN',\n",
       " ' LUDDE',\n",
       " ' LUDVIG',\n",
       " ' LUFTIG',\n",
       " ' LUGN',\n",
       " ' LUMMIG',\n",
       " ' LUNS',\n",
       " ' LUNTA',\n",
       " ' LUPIN',\n",
       " ' LURÖY',\n",
       " ' LUSTIFIK',\n",
       " ' LUSY',\n",
       " ' LYCKA',\n",
       " ' LYCKHEM',\n",
       " ' LYCKSELE',\n",
       " ' LYDUM',\n",
       " ' LYFT',\n",
       " ' LYKTA',\n",
       " ' LYSTER',\n",
       " ' LÅGIS',\n",
       " ' LÄKT',\n",
       " ' LÄMPLIG',\n",
       " ' LÄTT',\n",
       " ' LÄTTSAM',\n",
       " ' LÖKÖ',\n",
       " ' LÖMSK',\n",
       " ' LÖV',\n",
       " ' LÖVA',\n",
       " ' ',\n",
       " ' MACKIS',\n",
       " ' MAGASIN',\n",
       " ' MAGGAN',\n",
       " ' MAGNIFIK',\n",
       " ' MAJBY',\n",
       " ' MAJKEN',\n",
       " ' MAJVOR',\n",
       " ' MALM',\n",
       " ' MALMA',\n",
       " ' MALOU',\n",
       " ' MALTE',\n",
       " ' MAMMUT',\n",
       " ' MANDAL',\n",
       " ' MANDEL',\n",
       " ' MANGER',\n",
       " ' MANNE',\n",
       " ' MAREN',\n",
       " ' MARGINAL',\n",
       " ' MARIEBERG',\n",
       " ' MARIUS',\n",
       " ' MARKLAND',\n",
       " ' MARKUS',\n",
       " ' MARKÖR',\n",
       " ' MARTIN',\n",
       " ' MATA',\n",
       " ' MATILDA',\n",
       " ' MATTEUS',\n",
       " ' MAVAS',\n",
       " ' MEDALJ',\n",
       " ' MEDALJONG',\n",
       " ' MELBU',\n",
       " ' MELDAL',\n",
       " ' MELLTORP',\n",
       " ' MELODI',\n",
       " ' MERETE',\n",
       " ' METALL',\n",
       " ' METRIK',\n",
       " ' MIEN',\n",
       " ' MIKAEL',\n",
       " ' MIL',\n",
       " ' MINDE',\n",
       " ' MINIFÅNGST',\n",
       " ' MINNA',\n",
       " ' MINNEN',\n",
       " ' MIX',\n",
       " ' MIXA',\n",
       " ' MIXTUR',\n",
       " ' MJÄLLBY',\n",
       " ' MJÖD',\n",
       " ' MJÖNÄS',\n",
       " ' MOLGER',\n",
       " ' MOLNIG',\n",
       " ' MONGSTAD',\n",
       " ' MOSES',\n",
       " ' MOSIPPA',\n",
       " ' MOSJÖ',\n",
       " ' MOTORP',\n",
       " ' MOTTO',\n",
       " ' MUDDUS',\n",
       " ' MULA',\n",
       " ' MUMSIG',\n",
       " ' MUSIK',\n",
       " ' MYDAL',\n",
       " ' MYKEN',\n",
       " ' MYS',\n",
       " ' MYSA',\n",
       " ' MYSKMALVA',\n",
       " ' MÅBÄR',\n",
       " ' MÅLA',\n",
       " ' MÅNSTAD',\n",
       " ' MÅSNAN',\n",
       " ' MÅTTLIG',\n",
       " ' MÄLARÖ',\n",
       " ' MÄRIT',\n",
       " ' MÖKERN',\n",
       " ' MÖRKER',\n",
       " ' MÖRRUM',\n",
       " ' ',\n",
       " ' NANDOR',\n",
       " ' NATT',\n",
       " ' NEGLINGE',\n",
       " ' NEJLIKA',\n",
       " ' NEKTARIN',\n",
       " ' NIDELVA',\n",
       " ' NILS',\n",
       " ' NISSE',\n",
       " ' NIVÅ',\n",
       " ' NJUTA',\n",
       " ' NOGA',\n",
       " ' NOJS',\n",
       " ' NOMINELL',\n",
       " ' NON',\n",
       " ' NORBO',\n",
       " ' NORDANÖ',\n",
       " ' NORDEN',\n",
       " ' NORDMYRA',\n",
       " ' NORESUND',\n",
       " ' NORNA',\n",
       " ' NORREBO',\n",
       " ' NORRESKOG',\n",
       " ' NORRSKEN',\n",
       " ' NORRSTEN',\n",
       " ' NORVALD',\n",
       " ' NOSTALGISK',\n",
       " ' NOT',\n",
       " ' NUMERÄR',\n",
       " ' NUTID',\n",
       " ' NYSTED',\n",
       " ' NYTTA',\n",
       " ' NYTTIG',\n",
       " ' NYTTJA',\n",
       " ' NÄCKTEN',\n",
       " ' NÄRA',\n",
       " ' NÄSBY',\n",
       " ' NÄSSJÖ',\n",
       " ' NÄSTVED',\n",
       " ' NÄSUM',\n",
       " ' NÄTT',\n",
       " ' NÖJE',\n",
       " ' ',\n",
       " ' OBI',\n",
       " ' OBSERVATÖR',\n",
       " ' ODDA',\n",
       " ' ODDVAR',\n",
       " ' OFELIA',\n",
       " ' OLARP',\n",
       " ' OLLE',\n",
       " ' OLUNDA',\n",
       " ' OMAR',\n",
       " ' OMSORG',\n",
       " ' OPTIMAL',\n",
       " ' ORDNING',\n",
       " ' ORE',\n",
       " ' ORGEL',\n",
       " ' ORKIDE',\n",
       " ' ORMO',\n",
       " ' ORRLÖT',\n",
       " ' ORÖD',\n",
       " ' OXEL',\n",
       " ' OXSKÄR',\n",
       " ' ',\n",
       " ' PAPAJA',\n",
       " ' PARAGRAF',\n",
       " ' PARK',\n",
       " ' PATRICIA',\n",
       " ' PATRIK',\n",
       " ' PATRULL',\n",
       " ' PAX',\n",
       " ' PELLO',\n",
       " ' PERSIKA',\n",
       " ' PERSISK',\n",
       " ' PETRONELLA',\n",
       " ' PILATORP',\n",
       " ' PINJE',\n",
       " ' PIRO',\n",
       " ' PJÄS',\n",
       " ' PJÄTTERYD',\n",
       " ' PLAN',\n",
       " ' PLANK',\n",
       " ' PLASTIS',\n",
       " ' PLATTA',\n",
       " ' PLINGA',\n",
       " ' PLUS',\n",
       " ' PLUTT',\n",
       " ' POKAL',\n",
       " ' POLARVIDE',\n",
       " ' POMP',\n",
       " ' PORTIS',\n",
       " ' POVEL',\n",
       " ' POÄNG',\n",
       " ' PRAKTFULL',\n",
       " ' PREMIÄR',\n",
       " ' PRESSA',\n",
       " ' PRESTERA',\n",
       " ' PRICKIG',\n",
       " ' PRODUKT',\n",
       " ' PROMPT',\n",
       " ' PROPER',\n",
       " ' PRUTA',\n",
       " ' PRÄGEL',\n",
       " ' PRÄKTIG',\n",
       " ' PRÖJS',\n",
       " ' PS',\n",
       " ' PUGG',\n",
       " ' PULT',\n",
       " ' PUNKT',\n",
       " ' PYRA',\n",
       " ' PYSSLA',\n",
       " ' PÅLITLIG',\n",
       " ' PÅTÅR',\n",
       " ' PÄLLBO',\n",
       " ' ',\n",
       " ' RABALDER',\n",
       " ' RADIUM',\n",
       " ' RAGNA',\n",
       " ' RAJTAN',\n",
       " ' RAKET',\n",
       " ' RAM',\n",
       " ' RAMVIK',\n",
       " ' RAND',\n",
       " ' RAPS',\n",
       " ' RARA',\n",
       " ' RARITET',\n",
       " ' RAST',\n",
       " ' RATIONELL',\n",
       " ' REBBENES',\n",
       " ...]"
      ]
     },
     "execution_count": 85,
     "metadata": {},
     "output_type": "execute_result"
    }
   ],
   "source": [
    "names"
   ]
  },
  {
   "cell_type": "code",
   "execution_count": null,
   "metadata": {
    "button": false,
    "collapsed": true,
    "deletable": true,
    "new_sheet": false,
    "run_control": {
     "read_only": false
    }
   },
   "outputs": [],
   "source": []
  },
  {
   "cell_type": "code",
   "execution_count": null,
   "metadata": {
    "button": false,
    "collapsed": true,
    "deletable": true,
    "new_sheet": false,
    "run_control": {
     "read_only": false
    }
   },
   "outputs": [],
   "source": []
  },
  {
   "cell_type": "code",
   "execution_count": null,
   "metadata": {
    "button": false,
    "collapsed": true,
    "deletable": true,
    "new_sheet": false,
    "run_control": {
     "read_only": false
    }
   },
   "outputs": [],
   "source": []
  }
 ],
 "metadata": {
  "kernelspec": {
   "display_name": "Python 3",
   "language": "python",
   "name": "python3"
  },
  "language_info": {
   "codemirror_mode": {
    "name": "ipython",
    "version": 3
   },
   "file_extension": ".py",
   "mimetype": "text/x-python",
   "name": "python",
   "nbconvert_exporter": "python",
   "pygments_lexer": "ipython3",
   "version": "3.5.0"
  }
 },
 "nbformat": 4,
 "nbformat_minor": 1
}
